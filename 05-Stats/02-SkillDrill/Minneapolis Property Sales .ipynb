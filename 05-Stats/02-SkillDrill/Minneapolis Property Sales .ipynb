{
 "cells": [
  {
   "cell_type": "code",
   "execution_count": null,
   "metadata": {},
   "outputs": [],
   "source": [
    "# Import Dependencies\n",
    "import pandas as pd\n",
    "import plotly.express as px\n",
    "import matplotlib.pyplot as plt\n",
    "import os\n",
    "import scipy.stats as stats\n",
    "import statsmodels.api as sm\n",
    "import numpy as np"
   ]
  },
  {
   "cell_type": "code",
   "execution_count": null,
   "metadata": {},
   "outputs": [],
   "source": [
    "# Define file path and read property sales file\n",
    "property_df = pd.read_csv('Resources/property_sales.csv')\n",
    "property_df.head()\n"
   ]
  },
  {
   "cell_type": "code",
   "execution_count": null,
   "metadata": {},
   "outputs": [],
   "source": [
    "# Find all indices of null values in gross sales \n",
    "null_gross_sales_indices=property_df[property_df['Gross_Sale'].isna()].index\n",
    "null_gross_sales_indices"
   ]
  },
  {
   "cell_type": "code",
   "execution_count": null,
   "metadata": {},
   "outputs": [],
   "source": [
    "# Drop all rows with null values in Gross sales\n",
    "property_df.drop(index=null_gross_sales_indices, inplace=True)\n"
   ]
  },
  {
   "cell_type": "code",
   "execution_count": null,
   "metadata": {},
   "outputs": [],
   "source": [
    "# plotting histogram\n",
    "\n",
    "px.histogram(property_df['Gross_Sale'], histnorm='probability',nbins=20000, range_x=[0,1000000])"
   ]
  },
  {
   "cell_type": "markdown",
   "metadata": {},
   "source": [
    "Normality\n",
    "The property sales dataset is right skewed (positively skewed). This means that most of the data is to the right side of the graph's peak. \n",
    "\n"
   ]
  },
  {
   "cell_type": "code",
   "execution_count": null,
   "metadata": {},
   "outputs": [],
   "source": [
    "# Drawing two radom sample from the property_sales population\n",
    "\n",
    "sample1=property_df.sample(n=4000)\n",
    "sample2=property_df.sample(n=4000)"
   ]
  },
  {
   "cell_type": "code",
   "execution_count": null,
   "metadata": {},
   "outputs": [],
   "source": [
    "# graphically comparing the random samples to the main population to determin if they were draw from the same population\n",
    "\n",
    "plt.figure(figsize=[10,8])\n",
    "plt.subplot(1,1,1)\n",
    "\n",
    "plt.hist(property_df['Gross_Sale'], bins=100, range=(0,3000000), color='green')\n",
    "plt.hist(sample1['Gross_Sale'], bins=200,range=(0,3000000), alpha=0.8,)\n",
    "plt.hist(sample2['Gross_Sale'], bins=200, range=(0,3000000), alpha=0.5, color='red')\n",
    "\n",
    "plt.axvline(property_df['Gross_Sale'].median(),color='blue', linewidth=7)\n",
    "plt.axvline(sample1['Gross_Sale'].median(),color='maroon',linewidth=3)\n",
    "plt.axvline(sample2['Gross_Sale'].median(),color='black', linewidth=2, linestyle='dotted')\n",
    "plt.legend(['Property Sales Median', 'Sample 1 median', 'Sample 2 median','Property Sales','Sample 1', 'Sample 2'])\n",
    "plt.title(\"Comparing Random samples with population\")\n",
    "plt.show()"
   ]
  },
  {
   "cell_type": "code",
   "execution_count": null,
   "metadata": {},
   "outputs": [],
   "source": [
    "stats.ttest_1samp(sample1['Gross_Sale'], property_df['Gross_Sale'].mean())"
   ]
  },
  {
   "cell_type": "code",
   "execution_count": null,
   "metadata": {},
   "outputs": [],
   "source": [
    "stats.ttest_1samp(sample2['Gross_Sale'], property_df['Gross_Sale'].mean())"
   ]
  },
  {
   "cell_type": "code",
   "execution_count": null,
   "metadata": {},
   "outputs": [],
   "source": [
    "stats.ttest_ind(sample1['Gross_Sale'], sample2['Gross_Sale'], equal_var=False)"
   ]
  },
  {
   "cell_type": "markdown",
   "metadata": {},
   "source": [
    "Results analysis and Conclusion\n",
    "A high pvalue between Sample1 and the population shows that they are the same. In other words, a pvalue higher than 0.05 means that we reject the null hypothesis. In this case, the pvalue for sample1 is about 0.9657 and for sample2 it is 0.21. These values are higher than 0.05 and this shows that the two samples are from the same population. This can also be derived from looking at the histogram diagram which shows both sample plots overlapping each other and they appear similar to the population.\n",
    "The Minneapolis Property Sales dataset is right skewed, as seen in the plots above. This is not a normal distribution.\n"
   ]
  },
  {
   "cell_type": "code",
   "execution_count": null,
   "metadata": {},
   "outputs": [],
   "source": []
  }
 ],
 "metadata": {
  "kernelspec": {
   "display_name": "Python 3",
   "language": "python",
   "name": "python3"
  },
  "language_info": {
   "codemirror_mode": {
    "name": "ipython",
    "version": 3
   },
   "file_extension": ".py",
   "mimetype": "text/x-python",
   "name": "python",
   "nbconvert_exporter": "python",
   "pygments_lexer": "ipython3",
   "version": "3.8.5"
  }
 },
 "nbformat": 4,
 "nbformat_minor": 4
}
