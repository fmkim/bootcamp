{
 "cells": [
  {
   "cell_type": "code",
   "execution_count": null,
   "metadata": {},
   "outputs": [],
   "source": [
    "# Dependencies\n",
    "import pandas as pd\n",
    "import plotly.express as px\n",
    "import scipy.stats as sts\n",
    "import os\n",
    "from scipy.stats import linregress\n",
    "from sklearn import datasets\n",
    "import statsmodels.api as sm"
   ]
  },
  {
   "cell_type": "markdown",
   "metadata": {},
   "source": [
    "Hypothesis:\n",
    "If temperature affects the number of bikes crossing the Brooklyn Bridge, increasing the temperature to above 55 degrees  will lead to a higer number of bikes crossing the Brooklyn Bridge.\n",
    "Null Hypothesis\n",
    "If temperature does not affect the number of bikes crossing the Brooklyn Bridge, Higher High Temperature values will have no effect on the number of bikes crossing the Brooklyn Bridge.\n",
    "Alternative Hypothesis\n",
    "If temperature has an effect on the number of bikes crossing the Brooklyn Bridge, a temperature above 55 degrees will leead to increased number of bikes crossing the Brooklyn Bridge."
   ]
  },
  {
   "cell_type": "code",
   "execution_count": null,
   "metadata": {},
   "outputs": [],
   "source": [
    "bikecounts_file = os.path.join('../','Resources', 'bikecounts.csv')\n",
    "bikecounts_df = pd.read_csv(bikecounts_file)\n",
    "bikecounts_df['Day'] = pd.to_datetime(bikecounts_df['Day'])\n",
    "bikecounts_df.head(10)"
   ]
  },
  {
   "cell_type": "code",
   "execution_count": null,
   "metadata": {},
   "outputs": [],
   "source": [
    "print(bikecounts_df.describe())"
   ]
  },
  {
   "cell_type": "code",
   "execution_count": null,
   "metadata": {},
   "outputs": [],
   "source": [
    "#High Temp higher than 55.0\n",
    "#looking at the mean of bikes crossing the Brooklyn Bridge, when the High temperature is above 55.0, the average number of\n",
    "#bikes is about 2680 compared to an average of 1183 for temperature below 55.0 as seen in the cell below.\n",
    "Brooklyn=bikecounts_df.loc[bikecounts_df['High Temp (°F)']>55.0]\n",
    "Brooklyn.describe()"
   ]
  },
  {
   "cell_type": "code",
   "execution_count": null,
   "metadata": {},
   "outputs": [],
   "source": [
    "#High Temp lower than 55.0\n",
    "Brooklyn_low=bikecounts_df.loc[bikecounts_df['High Temp (°F)']<55.0]\n",
    "Brooklyn_low.describe()"
   ]
  },
  {
   "cell_type": "code",
   "execution_count": null,
   "metadata": {},
   "outputs": [],
   "source": [
    "#precipitation vs. number of bikes across Brooklyn Bridge\n",
    "bikes=bikecounts_df['Brooklyn Bridge']\n",
    "precipitation=bikecounts_df['Precipitation']\n",
    "precipitation_v_bikes = px.scatter(x=precipitation, y=bikes)\n",
    "precipitation_v_bikes.update_layout(\n",
    "    xaxis_title=\"Precipitation\",\n",
    "    yaxis_title=\"Number of Bikes\"\n",
    ")"
   ]
  },
  {
   "cell_type": "code",
   "execution_count": null,
   "metadata": {
    "scrolled": true
   },
   "outputs": [],
   "source": [
    "bikes=bikecounts_df['Brooklyn Bridge']\n",
    "low=bikecounts_df['Low Temp (°F)']\n",
    "low_v_bikes = px.scatter(x=low, y=bikes)\n",
    "low_v_bikes.update_layout(\n",
    "    xaxis_title=\"Low Temp\",\n",
    "    yaxis_title=\"Number of Bikes\"\n",
    ")"
   ]
  },
  {
   "cell_type": "code",
   "execution_count": null,
   "metadata": {},
   "outputs": [],
   "source": [
    "bikes=bikecounts_df['']\n",
    "high=bikecounts_df['High Temp (°F)']\n",
    "high_v_bikes = px.scatter(x=high, y=bikes)\n",
    "high_v_bikes.update_layout(\n",
    "    xaxis_title=\"High Temp\",\n",
    "    yaxis_title=\"Number of Bikes\"\n",
    ")"
   ]
  },
  {
   "cell_type": "code",
   "execution_count": null,
   "metadata": {},
   "outputs": [],
   "source": [
    "# Calculate the Pearson correlation coefficient for each pair of factors and show the scatter plot below it\n",
    "print(f\"The correlation between hight temp and the number of bikes crossing the Brooklyn Bridge is {sts.pearsonr(high, bikes)[0]}\")\n",
    "high_v_bikes.show()"
   ]
  },
  {
   "cell_type": "code",
   "execution_count": null,
   "metadata": {},
   "outputs": [],
   "source": [
    "# Calculate the Pearson correlation coefficient for each pair of factors and show the scatter plot below it\n",
    "print(f\"The correlation between low temp and the number of bikes crossing the Brooklyn Bridge is {sts.pearsonr(low, bikes)[0]}\")\n",
    "low_v_bikes.show()"
   ]
  },
  {
   "cell_type": "code",
   "execution_count": null,
   "metadata": {},
   "outputs": [],
   "source": [
    "x_values = bikecounts_df['High Temp (°F)']\n",
    "y_values = bikecounts_df['Brooklyn Bridge']\n",
    "(slope, intercept, rvalue, pvalue, stderr) = linregress(x_values, y_values)\n",
    "regress_values = x_values * slope + intercept\n",
    "line_eq = \"y = \" + str(round(slope, 2)) + \"x + \" + str(round(intercept, 2))\n",
    "print(line_eq)"
   ]
  },
  {
   "cell_type": "code",
   "execution_count": null,
   "metadata": {},
   "outputs": [],
   "source": [
    "high_temp_v_bikecounts_plotly = px.scatter(\n",
    "    bikecounts_df,\n",
    "    x='High Temp (°F)',\n",
    "    y='Brooklyn Bridge',\n",
    "    trendline='ols',\n",
    "    trendline_color_override='green'\n",
    ")\n",
    "high_temp_v_bikecounts_plotly.update_layout(\n",
    "    xaxis_title='High Temp',\n",
    "    yaxis_title='Bike Count'\n",
    ")"
   ]
  },
  {
   "cell_type": "code",
   "execution_count": null,
   "metadata": {},
   "outputs": [],
   "source": [
    "results = px.get_trendline_results(high_temp_v_bikecounts_plotly)\n"
   ]
  },
  {
   "cell_type": "code",
   "execution_count": null,
   "metadata": {},
   "outputs": [],
   "source": [
    "Y = bikecounts_df['Brooklyn Bridge']\n",
    "X = bikecounts_df['High Temp (°F)']\n",
    "X = sm.add_constant(X)\n",
    "model = sm.OLS(Y,X)\n",
    "results = model.fit()\n",
    "results.params"
   ]
  },
  {
   "cell_type": "code",
   "execution_count": null,
   "metadata": {},
   "outputs": [],
   "source": [
    "print(results.summary())"
   ]
  }
 ],
 "metadata": {
  "kernelspec": {
   "display_name": "Python 3",
   "language": "python",
   "name": "python3"
  },
  "language_info": {
   "codemirror_mode": {
    "name": "ipython",
    "version": 3
   },
   "file_extension": ".py",
   "mimetype": "text/x-python",
   "name": "python",
   "nbconvert_exporter": "python",
   "pygments_lexer": "ipython3",
   "version": "3.8.5"
  }
 },
 "nbformat": 4,
 "nbformat_minor": 2
}
